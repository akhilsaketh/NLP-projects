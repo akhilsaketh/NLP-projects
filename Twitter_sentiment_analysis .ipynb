{
 "cells": [
  {
   "cell_type": "markdown",
   "metadata": {},
   "source": [
    "# <span style=\"color:blue\">SIMPLE TWITTER SENTIMENT ANALYSIS USING TEXTBLOB</span>"
   ]
  },
  {
   "cell_type": "markdown",
   "metadata": {},
   "source": [
    "## Import Necessary Packages"
   ]
  },
  {
   "cell_type": "code",
   "execution_count": 1,
   "metadata": {},
   "outputs": [],
   "source": [
    "import tweepy   #To handle twitter data\n",
    "import textblob #To handle with text\n",
    "from textblob import TextBlob\n",
    "import matplotlib.pyplot as plt # To plot the data\n",
    "%matplotlib inline"
   ]
  },
  {
   "cell_type": "markdown",
   "metadata": {},
   "source": [
    "## Giving Twitter API Authentication"
   ]
  },
  {
   "cell_type": "code",
   "execution_count": 2,
   "metadata": {},
   "outputs": [],
   "source": [
    "consumerKey='enter consumer key'\n",
    "consumerSecret='enter consumer secret key'\n",
    "accessToken ='enter access token'\n",
    "accessTokenSecret='enter access token'\n",
    "\n",
    "auth=tweepy.OAuthHandler(consumerKey,consumerSecret)\n",
    "\n",
    "auth.set_access_token(accessToken,accessTokenSecret)\n",
    "\n",
    "api=tweepy.API(auth)"
   ]
  },
  {
   "cell_type": "markdown",
   "metadata": {},
   "source": [
    "## Now let us start searching for required topic and find out the polarity scores of tweets"
   ]
  },
  {
   "cell_type": "code",
   "execution_count": 3,
   "metadata": {},
   "outputs": [
    {
     "name": "stdout",
     "output_type": "stream",
     "text": [
      "Sentiment(polarity=0.45, subjectivity=0.525)\n",
      "\n",
      "Sentiment(polarity=0.35000000000000003, subjectivity=0.95)\n",
      "\n",
      "Sentiment(polarity=0.45, subjectivity=0.525)\n",
      "\n",
      "Sentiment(polarity=0.45, subjectivity=0.525)\n",
      "\n",
      "Sentiment(polarity=0.0, subjectivity=0.0)\n",
      "\n",
      "Sentiment(polarity=-0.07499999999999996, subjectivity=0.95)\n",
      "\n",
      "Sentiment(polarity=0.0, subjectivity=0.0)\n",
      "\n",
      "Sentiment(polarity=0.375, subjectivity=0.5083333333333333)\n",
      "\n",
      "Sentiment(polarity=0.5, subjectivity=0.6)\n",
      "\n",
      "Sentiment(polarity=0.125, subjectivity=0.5833333333333334)\n",
      "\n",
      "Sentiment(polarity=-0.04583333333333334, subjectivity=0.37083333333333335)\n",
      "\n",
      "Sentiment(polarity=0.45, subjectivity=0.525)\n",
      "\n"
     ]
    }
   ],
   "source": [
    "tweets=api.search('friendship')\n",
    "polarity=0\n",
    "neutral,positive,negative=0,0,0\n",
    "for tweet in tweets:\n",
    "    #print(tweet.text)\n",
    "    analysis=TextBlob(tweet.text)\n",
    "    an_se=analysis.sentiment\n",
    "    print(an_se)\n",
    "    polarity+=an_se[0]\n",
    "    if an_se[0]==0:\n",
    "        neutral+=1\n",
    "    elif an_se[0]>0:\n",
    "        positive+=1\n",
    "    else:\n",
    "        negative+=1\n",
    "    print()"
   ]
  },
  {
   "cell_type": "code",
   "execution_count": 4,
   "metadata": {},
   "outputs": [],
   "source": [
    "pos_label='positive-'+str(round((positive*100/(positive+negative+neutral)),2))+'%'\n",
    "neg_label='negative-'+str(round((negative*100/(positive+negative+neutral)),2))+'%'\n",
    "neu_label='neutral-'+str(round((neutral*100/(positive+negative+neutral)),2))+'%'"
   ]
  },
  {
   "cell_type": "markdown",
   "metadata": {},
   "source": [
    "## Now let us plot a pie chart for visualising the sentiments of tweets"
   ]
  },
  {
   "cell_type": "code",
   "execution_count": 5,
   "metadata": {},
   "outputs": [
    {
     "data": {
      "text/plain": [
       "([<matplotlib.patches.Wedge at 0x7f26ad0e8198>,\n",
       "  <matplotlib.patches.Wedge at 0x7f26ad0e5be0>,\n",
       "  <matplotlib.patches.Wedge at 0x7f26ad0e5588>],\n",
       " [Text(-0.5500000594609755, 0.9526279098330699, 'positive-66.67%'),\n",
       "  Text(1.5448414935947287e-07, -1.0999999999999892, 'negative-16.67%'),\n",
       "  Text(0.9526280385698485, -0.5499998364823061, 'neutral-16.67%')])"
      ]
     },
     "execution_count": 5,
     "metadata": {},
     "output_type": "execute_result"
    },
    {
     "data": {
      "image/png": "[encoded data removed]",
      "text/plain": [
       "<Figure size 432x288 with 1 Axes>"
      ]
     },
     "metadata": {},
     "output_type": "display_data"
    }
   ],
   "source": [
    "plt.pie([positive,negative,neutral],labels=[pos_label,neg_label,neu_label])"
   ]
  },
  {
   "cell_type": "code",
   "execution_count": 6,
   "metadata": {},
   "outputs": [
    {
     "name": "stdout",
     "output_type": "stream",
     "text": [
      "3.029166666666667\n"
     ]
    }
   ],
   "source": [
    "print(polarity)"
   ]
  },
  {
   "cell_type": "markdown",
   "metadata": {},
   "source": [
    "We can see that polarity score is greater than 0 from observed tweets and also positive is higher among all from PIE chart."
   ]
  },
  {
   "cell_type": "markdown",
   "metadata": {},
   "source": [
    "Hence overall it can be concluded as positive."
   ]
  },
  {
   "cell_type": "code",
   "execution_count": null,
   "metadata": {},
   "outputs": [],
   "source": []
  }
 ],
 "metadata": {
  "kernelspec": {
   "display_name": "Python 3",
   "language": "python",
   "name": "python3"
  },
  "language_info": {
   "codemirror_mode": {
    "name": "ipython",
    "version": 3
   },
   "file_extension": ".py",
   "mimetype": "text/x-python",
   "name": "python",
   "nbconvert_exporter": "python",
   "pygments_lexer": "ipython3",
   "version": "3.6.7"
  }
 },
 "nbformat": 4,
 "nbformat_minor": 2
}
