{
 "cells": [
  {
   "cell_type": "markdown",
   "metadata": {},
   "source": [
    "# <span style=\"color:blue\">SIMPLE TWITTER SENTIMENT ANALYSIS USING TEXTBLOB</span>"
   ]
  },
  {
   "cell_type": "markdown",
   "metadata": {},
   "source": [
    "## Import Necessary Packages"
   ]
  },
  {
   "cell_type": "code",
   "execution_count": 1,
   "metadata": {},
   "outputs": [],
   "source": [
    "import tweepy   #To handle twitter data\n",
    "import textblob #To handle with text\n",
    "from textblob import TextBlob\n",
    "import matplotlib.pyplot as plt # To plot the data\n",
    "%matplotlib inline"
   ]
  },
  {
   "cell_type": "markdown",
   "metadata": {},
   "source": [
    "## Giving Twitter API Authentication"
   ]
  },
  {
   "cell_type": "code",
   "execution_count": 2,
   "metadata": {},
   "outputs": [],
   "source": [
    "consumerKey='enter consumer key'\n",
    "consumerSecret='enter consumer secret key'\n",
    "accessToken ='enter access token'\n",
    "accessTokenSecret='enter access token'\n",
    "\n",
    "auth=tweepy.OAuthHandler(consumerKey,consumerSecret)\n",
    "\n",
    "auth.set_access_token(accessToken,accessTokenSecret)\n",
    "\n",
    "api=tweepy.API(auth)"
   ]
  },
  {
   "cell_type": "markdown",
   "metadata": {},
   "source": [
    "## Now let us start searching for required topic and find out the polarity scores of tweets"
   ]
  },
  {
   "cell_type": "code",
   "execution_count": 3,
   "metadata": {},
   "outputs": [
    {
     "name": "stdout",
     "output_type": "stream",
     "text": [
      "Sentiment(polarity=-0.125, subjectivity=0.5)\n",
      "\n",
      "Sentiment(polarity=-0.2, subjectivity=1.0)\n",
      "\n",
      "Sentiment(polarity=-0.125, subjectivity=0.5)\n",
      "\n",
      "Sentiment(polarity=0.175, subjectivity=0.325)\n",
      "\n",
      "Sentiment(polarity=0.0, subjectivity=0.0)\n",
      "\n",
      "Sentiment(polarity=0.27878787878787875, subjectivity=0.35151515151515156)\n",
      "\n",
      "Sentiment(polarity=0.2, subjectivity=0.1)\n",
      "\n",
      "Sentiment(polarity=0.0, subjectivity=0.0)\n",
      "\n",
      "Sentiment(polarity=-0.3499999999999999, subjectivity=0.3333333333333333)\n",
      "\n",
      "Sentiment(polarity=0.27878787878787875, subjectivity=0.35151515151515156)\n",
      "\n",
      "Sentiment(polarity=-0.125, subjectivity=0.5)\n",
      "\n",
      "Sentiment(polarity=-0.02424242424242425, subjectivity=0.6818181818181818)\n",
      "\n",
      "Sentiment(polarity=0.0, subjectivity=0.1)\n",
      "\n"
     ]
    }
   ],
   "source": [
    "tweets=api.search('friendship')\n",
    "polarity=0\n",
    "neutral,positive,negative=0,0,0\n",
    "for tweet in tweets:\n",
    "    #print(tweet.text)\n",
    "    analysis=TextBlob(tweet.text)\n",
    "    an_se=analysis.sentiment\n",
    "    print(an_se)\n",
    "    polarity+=an_se[0]\n",
    "    if an_se[0]==0:\n",
    "        neutral+=1\n",
    "    elif an_se[0]>0:\n",
    "        positive+=1\n",
    "    else:\n",
    "        negative+=1\n",
    "    print()"
   ]
  },
  {
   "cell_type": "markdown",
   "metadata": {},
   "source": [
    "## Now let us plot a pie chart for visualising the sentiments of tweets"
   ]
  },
  {
   "cell_type": "code",
   "execution_count": 4,
   "metadata": {},
   "outputs": [
    {
     "data": {
      "text/plain": [
       "([<matplotlib.patches.Wedge at 0x7faa384e1e10>,\n",
       "  <matplotlib.patches.Wedge at 0x7faa384e1898>,\n",
       "  <matplotlib.patches.Wedge at 0x7faa384e1358>],\n",
       " [Text(0.6248711888047935, 0.9052822749848162, 'positive'),\n",
       "  Text(-1.0680359783135132, -0.2632473153289448, 'negative'),\n",
       "  Text(0.8233618886561178, -0.7294348499411245, 'neutral')])"
      ]
     },
     "execution_count": 4,
     "metadata": {},
     "output_type": "execute_result"
    },
    {
     "data": {
      "image/png": "[encoded data removed]",
      "text/plain": [
       "<Figure size 432x288 with 1 Axes>"
      ]
     },
     "metadata": {},
     "output_type": "display_data"
    }
   ],
   "source": [
    "plt.pie([positive,negative,neutral],labels=['positive','negative','neutral'])"
   ]
  },
  {
   "cell_type": "code",
   "execution_count": 5,
   "metadata": {},
   "outputs": [
    {
     "name": "stdout",
     "output_type": "stream",
     "text": [
      "-0.01666666666666668\n"
     ]
    }
   ],
   "source": [
    "print(polarity)"
   ]
  },
  {
   "cell_type": "markdown",
   "metadata": {},
   "source": [
    "We can see that polarity score is greater than 0 from observed tweets and also positive is higher among all from PIE chart."
   ]
  },
  {
   "cell_type": "markdown",
   "metadata": {},
   "source": [
    "Hence overall it can be concluded as positive."
   ]
  },
  {
   "cell_type": "code",
   "execution_count": null,
   "metadata": {},
   "outputs": [],
   "source": []
  }
 ],
 "metadata": {
  "kernelspec": {
   "display_name": "Python 3",
   "language": "python",
   "name": "python3"
  },
  "language_info": {
   "codemirror_mode": {
    "name": "ipython",
    "version": 3
   },
   "file_extension": ".py",
   "mimetype": "text/x-python",
   "name": "python",
   "nbconvert_exporter": "python",
   "pygments_lexer": "ipython3",
   "version": "3.6.7"
  }
 },
 "nbformat": 4,
 "nbformat_minor": 2
}
